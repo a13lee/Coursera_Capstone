{
 "cells": [
  {
   "cell_type": "markdown",
   "metadata": {},
   "source": [
    "# Capstone Project: Battle of the Neighbourhoods"
   ]
  },
  {
   "cell_type": "markdown",
   "metadata": {},
   "source": [
    "## Data"
   ]
  },
  {
   "cell_type": "markdown",
   "metadata": {},
   "source": [
    "For this project, the data I will need for performing the analysis will be the following:\n",
    "* Hotel location data, obtained from the Foursquare API, to find where hotels are located and also how many hotels there are in each neighbourhood.\n",
    "* Madrid main tourist attractions, obtained by webscraping popular tourist information websites.\n",
    "* Madrid average real estate prices by district, obtained from www.statista.com\n",
    "\n",
    "I will then use this data to find areas of low hotel density, that are close to all of the main tourist attractions and are reasonably priced. These areas will then be clustered to find suitable locations for a new Hotel."
   ]
  }
 ],
 "metadata": {
  "kernelspec": {
   "display_name": "Python 3",
   "language": "python",
   "name": "python3"
  },
  "language_info": {
   "codemirror_mode": {
    "name": "ipython",
    "version": 3
   },
   "file_extension": ".py",
   "mimetype": "text/x-python",
   "name": "python",
   "nbconvert_exporter": "python",
   "pygments_lexer": "ipython3",
   "version": "3.8.5"
  }
 },
 "nbformat": 4,
 "nbformat_minor": 4
}
